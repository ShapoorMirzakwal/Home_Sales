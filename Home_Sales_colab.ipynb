{
 "cells": [
  {
   "cell_type": "code",
   "execution_count": null,
   "metadata": {
    "colab": {
     "base_uri": "https://localhost:8080/"
    },
    "executionInfo": {
     "elapsed": 26845,
     "status": "ok",
     "timestamp": 1680654514464,
     "user": {
      "displayName": "Shapoor Mirzakwal",
      "userId": "02509529061383046859"
     },
     "user_tz": 240
    },
    "id": "3hyhocb6w-KF",
    "outputId": "5c1afa1a-7375-4d67-d387-275cd0caccf2"
   },
   "outputs": [
    {
     "name": "stdout",
     "output_type": "stream",
     "text": [
      "\r",
      "0% [Working]\r",
      "            \r",
      "Hit:1 https://cloud.r-project.org/bin/linux/ubuntu focal-cran40/ InRelease\n",
      "\r",
      "0% [Connecting to archive.ubuntu.com (185.125.190.36)] [Waiting for headers] [C\r",
      "                                                                               \r",
      "Hit:2 https://developer.download.nvidia.com/compute/cuda/repos/ubuntu2004/x86_64  InRelease\n",
      "\r",
      "0% [Connecting to archive.ubuntu.com (185.125.190.36)] [Waiting for headers] [C\r",
      "                                                                               \r",
      "Hit:3 http://security.ubuntu.com/ubuntu focal-security InRelease\n",
      "\r",
      "                                                                               \r",
      "0% [Waiting for headers] [Waiting for headers]\r",
      "                                              \r",
      "Hit:4 http://archive.ubuntu.com/ubuntu focal InRelease\n",
      "Hit:5 http://ppa.launchpad.net/c2d4u.team/c2d4u4.0+/ubuntu focal InRelease\n",
      "Hit:6 http://archive.ubuntu.com/ubuntu focal-updates InRelease\n",
      "Hit:7 http://archive.ubuntu.com/ubuntu focal-backports InRelease\n",
      "Hit:8 http://ppa.launchpad.net/cran/libgit2/ubuntu focal InRelease\n",
      "Hit:9 http://ppa.launchpad.net/deadsnakes/ppa/ubuntu focal InRelease\n",
      "Hit:10 http://ppa.launchpad.net/graphics-drivers/ppa/ubuntu focal InRelease\n",
      "Hit:11 http://ppa.launchpad.net/ubuntugis/ppa/ubuntu focal InRelease\n",
      "Reading package lists... Done\n"
     ]
    }
   ],
   "source": [
    "import os\n",
    "# Colab: Find the latest version of spark 3.x  from http://www.apache.org/dist/spark/ and enter as the spark version\n",
    "# For example:\n",
    "# spark_version = 'spark-3.3.1'\n",
    "spark_version = 'spark-3.3.1'\n",
    "os.environ['SPARK_VERSION']=spark_version\n",
    "\n",
    "# Install Spark and Java\n",
    "!apt-get update\n",
    "!apt-get install openjdk-11-jdk-headless -qq > /dev/null\n",
    "!wget -q http://archive.apache.org/dist/spark/$SPARK_VERSION/$SPARK_VERSION-bin-hadoop3.tgz\n",
    "!tar xf $SPARK_VERSION-bin-hadoop3.tgz\n",
    "!pip install -q findspark\n",
    "\n",
    "# Set Environment Variables\n",
    "os.environ[\"JAVA_HOME\"] = \"/usr/lib/jvm/java-11-openjdk-amd64\"\n",
    "os.environ[\"SPARK_HOME\"] = f\"/content/{spark_version}-bin-hadoop3\"\n",
    "\n",
    "# Start a SparkSession\n",
    "import findspark\n",
    "findspark.init()"
   ]
  },
  {
   "cell_type": "code",
   "execution_count": null,
   "metadata": {
    "id": "lTRKYvtb0cmK"
   },
   "outputs": [],
   "source": [
    "# Import packages\n",
    "from pyspark.sql import SparkSession\n",
    "import time\n",
    "\n",
    "# Create a SparkSession\n",
    "spark = SparkSession.builder.appName(\"SparkSQL\").getOrCreate()"
   ]
  },
  {
   "cell_type": "code",
   "execution_count": null,
   "metadata": {
    "colab": {
     "base_uri": "https://localhost:8080/"
    },
    "executionInfo": {
     "elapsed": 11552,
     "status": "ok",
     "timestamp": 1680654634846,
     "user": {
      "displayName": "Shapoor Mirzakwal",
      "userId": "02509529061383046859"
     },
     "user_tz": 240
    },
    "id": "aWd7rJOD0hrY",
    "outputId": "652fd03e-9d42-46cd-966f-2290cd80a037"
   },
   "outputs": [
    {
     "name": "stdout",
     "output_type": "stream",
     "text": [
      "+--------------------+----------+----------+------+--------+---------+-----------+--------+------+----------+----+\n",
      "|                  id|      date|date_built| price|bedrooms|bathrooms|sqft_living|sqft_lot|floors|waterfront|view|\n",
      "+--------------------+----------+----------+------+--------+---------+-----------+--------+------+----------+----+\n",
      "|f8a53099-ba1c-47d...|2022-04-08|      2016|936923|       4|        3|       3167|   11733|     2|         1|  76|\n",
      "|7530a2d8-1ae3-451...|2021-06-13|      2013|379628|       2|        2|       2235|   14384|     1|         0|  23|\n",
      "|43de979c-0bf0-4c9...|2019-04-12|      2014|417866|       2|        2|       2127|   10575|     2|         0|   0|\n",
      "|b672c137-b88c-48b...|2019-10-16|      2016|239895|       2|        2|       1631|   11149|     2|         0|   0|\n",
      "|e0726d4d-d595-407...|2022-01-08|      2017|424418|       3|        2|       2249|   13878|     2|         0|   4|\n",
      "|5aa00529-0533-46b...|2019-01-30|      2017|218712|       2|        3|       1965|   14375|     2|         0|   7|\n",
      "|131492a1-72e2-4a8...|2020-02-08|      2017|419199|       2|        3|       2062|    8876|     2|         0|   6|\n",
      "|8d54a71b-c520-44e...|2019-07-21|      2010|323956|       2|        3|       1506|   11816|     1|         0|  25|\n",
      "|e81aacfe-17fe-46b...|2020-06-16|      2016|181925|       3|        3|       2137|   11709|     2|         0|  22|\n",
      "|2ed8d509-7372-46d...|2021-08-06|      2015|258710|       3|        3|       1918|    9666|     1|         0|  25|\n",
      "|f876d86f-3c9f-42b...|2019-02-27|      2011|167864|       3|        3|       2471|   13924|     2|         0|  15|\n",
      "|0a2bd445-8508-4d8...|2021-12-30|      2014|337527|       2|        3|       1926|   12556|     1|         0|  23|\n",
      "|941bad30-eb49-4a7...|2020-05-09|      2015|229896|       3|        3|       2197|    8641|     1|         0|   3|\n",
      "|dd61eb34-6589-4c0...|2021-07-25|      2016|210247|       3|        2|       1672|   11986|     2|         0|  28|\n",
      "|f1e4cef7-d151-439...|2019-02-01|      2011|398667|       2|        3|       2331|   11356|     1|         0|   7|\n",
      "|ea620c7b-c2f7-4c6...|2021-05-31|      2011|437958|       3|        3|       2356|   11052|     1|         0|  26|\n",
      "|f233cb41-6f33-4b0...|2021-07-18|      2016|437375|       4|        3|       1704|   11721|     2|         0|  34|\n",
      "|c797ca12-52cd-4b1...|2019-06-08|      2015|288650|       2|        3|       2100|   10419|     2|         0|   7|\n",
      "|0cfe57f3-28c2-472...|2019-10-04|      2015|308313|       3|        3|       1960|    9453|     2|         0|   2|\n",
      "|4566cd2a-ac6e-435...|2019-07-15|      2016|177541|       3|        3|       2130|   10517|     2|         0|  25|\n",
      "+--------------------+----------+----------+------+--------+---------+-----------+--------+------+----------+----+\n",
      "only showing top 20 rows\n",
      "\n"
     ]
    }
   ],
   "source": [
    "from pyspark import SparkFiles\n",
    "url = \"https://2u-data-curriculum-team.s3.amazonaws.com/dataviz-classroom/v1.2/22-big-data/home_sales_revised.csv\"\n",
    "\n",
    "spark.sparkContext.addFile(url)\n",
    "home_sales = spark.read.csv(SparkFiles.get(\"home_sales_revised.csv\"), sep=\",\", header=True)\n",
    "home_sales.show()"
   ]
  },
  {
   "cell_type": "code",
   "execution_count": null,
   "metadata": {
    "id": "LL9L98Ey2O_2"
   },
   "outputs": [],
   "source": [
    "# 2. Create a temporary view of the DataFrame.\n",
    "home_sales.createOrReplaceTempView('home_sale')"
   ]
  },
  {
   "cell_type": "code",
   "execution_count": null,
   "metadata": {
    "colab": {
     "base_uri": "https://localhost:8080/"
    },
    "executionInfo": {
     "elapsed": 2592,
     "status": "ok",
     "timestamp": 1680655106882,
     "user": {
      "displayName": "Shapoor Mirzakwal",
      "userId": "02509529061383046859"
     },
     "user_tz": 240
    },
    "id": "iFb-SSWn2V7j",
    "outputId": "3b4cf863-1f2b-4c95-b1fa-3e3c8b0e51c5"
   },
   "outputs": [
    {
     "name": "stdout",
     "output_type": "stream",
     "text": [
      "+----------+------------------+\n",
      "|date_built|        avg(price)|\n",
      "+----------+------------------+\n",
      "|      2016|296050.24326347304|\n",
      "|      2012| 298233.4150805271|\n",
      "|      2017| 296576.6934782609|\n",
      "|      2014| 299073.8858447489|\n",
      "|      2013|299999.38822652755|\n",
      "|      2011|302141.89581749047|\n",
      "|      2015|307908.86020761245|\n",
      "|      2010| 296800.7544776119|\n",
      "+----------+------------------+\n",
      "\n"
     ]
    }
   ],
   "source": [
    "# 3. What is the average price for a four bedroom house sold in each year rounded to two decimal places?\n",
    "avg3_df = home_sales.filter(home_sales[\"bedrooms\"]==4)\n",
    "avg3_df.groupBy(\"date_built\").agg({\"price\":\"avg\"}).show()"
   ]
  },
  {
   "cell_type": "code",
   "execution_count": null,
   "metadata": {
    "colab": {
     "base_uri": "https://localhost:8080/"
    },
    "executionInfo": {
     "elapsed": 1994,
     "status": "ok",
     "timestamp": 1680655138714,
     "user": {
      "displayName": "Shapoor Mirzakwal",
      "userId": "02509529061383046859"
     },
     "user_tz": 240
    },
    "id": "wxzSGI632eIf",
    "outputId": "6b28e694-672c-4667-dfe6-9e80bb9b2865"
   },
   "outputs": [
    {
     "name": "stdout",
     "output_type": "stream",
     "text": [
      "+----------+------------------+\n",
      "|date_built|        avg(price)|\n",
      "+----------+------------------+\n",
      "|      2016|  290555.073964497|\n",
      "|      2012| 293683.1872074883|\n",
      "|      2017| 292676.7887740029|\n",
      "|      2014| 290852.2661870504|\n",
      "|      2013|295962.27145085804|\n",
      "|      2011|291117.46706586826|\n",
      "|      2015| 288770.2966101695|\n",
      "|      2010|  292859.615942029|\n",
      "+----------+------------------+\n",
      "\n"
     ]
    }
   ],
   "source": [
    "# 4. What is the average price of a home for each year the home was built that have 3 bedrooms and 3 bathrooms rounded to two decimal places?\n",
    "avg4_df = home_sales.filter((home_sales[\"bedrooms\"]==3) & (home_sales[\"bathrooms\"]==3))\n",
    "avg4_df.groupBy(\"date_built\").agg({\"price\":\"avg\"}).show()"
   ]
  },
  {
   "cell_type": "code",
   "execution_count": null,
   "metadata": {
    "colab": {
     "base_uri": "https://localhost:8080/"
    },
    "executionInfo": {
     "elapsed": 2131,
     "status": "ok",
     "timestamp": 1680655163395,
     "user": {
      "displayName": "Shapoor Mirzakwal",
      "userId": "02509529061383046859"
     },
     "user_tz": 240
    },
    "id": "8ztwedmZ2lLR",
    "outputId": "cbff3196-5ec7-44b2-d764-9cdb59b9b4fd"
   },
   "outputs": [
    {
     "name": "stdout",
     "output_type": "stream",
     "text": [
      "+----------+------------------+\n",
      "|date_built|        avg(price)|\n",
      "+----------+------------------+\n",
      "|      2016| 293965.1046511628|\n",
      "|      2012|307539.97402597405|\n",
      "|      2017|280317.57692307694|\n",
      "|      2014| 298264.7183908046|\n",
      "|      2013|      303676.79375|\n",
      "|      2011| 276553.8128654971|\n",
      "|      2015| 297609.9679144385|\n",
      "|      2010| 285010.2215909091|\n",
      "+----------+------------------+\n",
      "\n"
     ]
    }
   ],
   "source": [
    "# 5. What is the average price of a home for each year built that have 3 bedrooms, 3 bathrooms, with two floors,\n",
    "# and are greater than or equal to 2,000 square feet rounded to two decimal places?\n",
    "avg5_df = home_sales.filter((home_sales[\"bedrooms\"]==3) & (home_sales[\"bathrooms\"]==3) & (home_sales[\"floors\"]==2) & (home_sales[\"sqft_living\"]>1999))\n",
    "avg5_df.groupBy(\"date_built\").agg({\"price\":\"avg\"}).show()"
   ]
  },
  {
   "cell_type": "code",
   "execution_count": null,
   "metadata": {
    "colab": {
     "base_uri": "https://localhost:8080/"
    },
    "executionInfo": {
     "elapsed": 928,
     "status": "ok",
     "timestamp": 1680655189274,
     "user": {
      "displayName": "Shapoor Mirzakwal",
      "userId": "02509529061383046859"
     },
     "user_tz": 240
    },
    "id": "p-a-7M_y2q4n",
    "outputId": "f21209fd-0479-4718-8798-7995c70faba6"
   },
   "outputs": [
    {
     "name": "stdout",
     "output_type": "stream",
     "text": [
      "+--------------------+----------+----------+------+--------+---------+-----------+--------+------+----------+----+\n",
      "|                  id|      date|date_built| price|bedrooms|bathrooms|sqft_living|sqft_lot|floors|waterfront|view|\n",
      "+--------------------+----------+----------+------+--------+---------+-----------+--------+------+----------+----+\n",
      "|f8a53099-ba1c-47d...|2022-04-08|      2016|936923|       4|        3|       3167|   11733|     2|         1|  76|\n",
      "|7530a2d8-1ae3-451...|2021-06-13|      2013|379628|       2|        2|       2235|   14384|     1|         0|  23|\n",
      "|43de979c-0bf0-4c9...|2019-04-12|      2014|417866|       2|        2|       2127|   10575|     2|         0|   0|\n",
      "|b672c137-b88c-48b...|2019-10-16|      2016|239895|       2|        2|       1631|   11149|     2|         0|   0|\n",
      "|e0726d4d-d595-407...|2022-01-08|      2017|424418|       3|        2|       2249|   13878|     2|         0|   4|\n",
      "|5aa00529-0533-46b...|2019-01-30|      2017|218712|       2|        3|       1965|   14375|     2|         0|   7|\n",
      "|131492a1-72e2-4a8...|2020-02-08|      2017|419199|       2|        3|       2062|    8876|     2|         0|   6|\n",
      "|8d54a71b-c520-44e...|2019-07-21|      2010|323956|       2|        3|       1506|   11816|     1|         0|  25|\n",
      "|e81aacfe-17fe-46b...|2020-06-16|      2016|181925|       3|        3|       2137|   11709|     2|         0|  22|\n",
      "|2ed8d509-7372-46d...|2021-08-06|      2015|258710|       3|        3|       1918|    9666|     1|         0|  25|\n",
      "|f876d86f-3c9f-42b...|2019-02-27|      2011|167864|       3|        3|       2471|   13924|     2|         0|  15|\n",
      "|0a2bd445-8508-4d8...|2021-12-30|      2014|337527|       2|        3|       1926|   12556|     1|         0|  23|\n",
      "|941bad30-eb49-4a7...|2020-05-09|      2015|229896|       3|        3|       2197|    8641|     1|         0|   3|\n",
      "|dd61eb34-6589-4c0...|2021-07-25|      2016|210247|       3|        2|       1672|   11986|     2|         0|  28|\n",
      "|f1e4cef7-d151-439...|2019-02-01|      2011|398667|       2|        3|       2331|   11356|     1|         0|   7|\n",
      "|ea620c7b-c2f7-4c6...|2021-05-31|      2011|437958|       3|        3|       2356|   11052|     1|         0|  26|\n",
      "|f233cb41-6f33-4b0...|2021-07-18|      2016|437375|       4|        3|       1704|   11721|     2|         0|  34|\n",
      "|c797ca12-52cd-4b1...|2019-06-08|      2015|288650|       2|        3|       2100|   10419|     2|         0|   7|\n",
      "|0cfe57f3-28c2-472...|2019-10-04|      2015|308313|       3|        3|       1960|    9453|     2|         0|   2|\n",
      "|4566cd2a-ac6e-435...|2019-07-15|      2016|177541|       3|        3|       2130|   10517|     2|         0|  25|\n",
      "+--------------------+----------+----------+------+--------+---------+-----------+--------+------+----------+----+\n",
      "only showing top 20 rows\n",
      "\n"
     ]
    }
   ],
   "source": [
    "#home_sales.show()\n",
    "spark.sql(\"SELECT * FROM home_sale\").show()"
   ]
  },
  {
   "cell_type": "code",
   "execution_count": null,
   "metadata": {
    "colab": {
     "base_uri": "https://localhost:8080/"
    },
    "executionInfo": {
     "elapsed": 517,
     "status": "ok",
     "timestamp": 1680655214846,
     "user": {
      "displayName": "Shapoor Mirzakwal",
      "userId": "02509529061383046859"
     },
     "user_tz": 240
    },
    "id": "dFEBOqeS2x43",
    "outputId": "2570564e-df92-4790-d97b-ff8b4d820877"
   },
   "outputs": [
    {
     "name": "stdout",
     "output_type": "stream",
     "text": [
      "+------+----+-----+\n",
      "| price|view|count|\n",
      "+------+----+-----+\n",
      "| price|view|    0|\n",
      "+------+----+-----+\n",
      "\n",
      "--- 0.3760042190551758 seconds ---\n"
     ]
    }
   ],
   "source": [
    "# 6. What is the \"view\" rating for the average price of a home, rounded to two decimal places, where the homes are greater than\n",
    "# or equal to $350,000? Although this is a small dataset, determine the run time for this query.\n",
    "\n",
    "start_time = time.time()\n",
    "\n",
    "spark.sql(\"\"\"\n",
    "SELECT \n",
    "  ' price', \n",
    "  'view',\n",
    "  count(*) as count\n",
    "FROM home_sale\n",
    "WHERE ' price' > 349999 \n",
    "\"\"\").show()\n",
    "\n",
    "\n",
    "print(\"--- %s seconds ---\" % (time.time() - start_time))"
   ]
  },
  {
   "cell_type": "code",
   "execution_count": null,
   "metadata": {
    "colab": {
     "base_uri": "https://localhost:8080/"
    },
    "executionInfo": {
     "elapsed": 1800,
     "status": "ok",
     "timestamp": 1680655240973,
     "user": {
      "displayName": "Shapoor Mirzakwal",
      "userId": "02509529061383046859"
     },
     "user_tz": 240
    },
    "id": "lbOEY65B24R6",
    "outputId": "f1809acd-a09d-473f-dac6-116a2d80a896"
   },
   "outputs": [
    {
     "data": {
      "text/plain": [
       "DataFrame[]"
      ]
     },
     "execution_count": 12,
     "metadata": {},
     "output_type": "execute_result"
    }
   ],
   "source": [
    "# 7. Cache the the temporary table home_sales.\n",
    "spark.sql(\"cache table home_sale\")"
   ]
  },
  {
   "cell_type": "code",
   "execution_count": null,
   "metadata": {
    "colab": {
     "base_uri": "https://localhost:8080/"
    },
    "executionInfo": {
     "elapsed": 218,
     "status": "ok",
     "timestamp": 1680655261072,
     "user": {
      "displayName": "Shapoor Mirzakwal",
      "userId": "02509529061383046859"
     },
     "user_tz": 240
    },
    "id": "zEWf-Zv-2-Am",
    "outputId": "e7d25bef-439e-4257-ff28-40c86e22e164"
   },
   "outputs": [
    {
     "data": {
      "text/plain": [
       "True"
      ]
     },
     "execution_count": 13,
     "metadata": {},
     "output_type": "execute_result"
    }
   ],
   "source": [
    "# 8. Check if the table is cached.\n",
    "spark.catalog.isCached('home_sale')"
   ]
  },
  {
   "cell_type": "code",
   "execution_count": null,
   "metadata": {
    "colab": {
     "base_uri": "https://localhost:8080/"
    },
    "executionInfo": {
     "elapsed": 324,
     "status": "ok",
     "timestamp": 1680655292381,
     "user": {
      "displayName": "Shapoor Mirzakwal",
      "userId": "02509529061383046859"
     },
     "user_tz": 240
    },
    "id": "xPwNpkuR3Dwt",
    "outputId": "32e29cea-395f-4d58-c981-be8203abc62f"
   },
   "outputs": [
    {
     "name": "stdout",
     "output_type": "stream",
     "text": [
      "+------+----+-----+\n",
      "| price|view|count|\n",
      "+------+----+-----+\n",
      "| price|view|    0|\n",
      "+------+----+-----+\n",
      "\n",
      "--- 0.22416281700134277 seconds ---\n"
     ]
    }
   ],
   "source": [
    "# 9. Using the cached data, run the query that filters out the view ratings with average price of greater than $350,000. \n",
    "# Determine the runtime and compare it to uncached runtime.\n",
    "\n",
    "start_time = time.time()\n",
    "\n",
    "spark.sql(\"\"\"\n",
    "SELECT \n",
    "  ' price', \n",
    "  'view',\n",
    "  count(*) as count\n",
    "FROM home_sale\n",
    "WHERE ' price' > 349999 \n",
    "\"\"\").show()\n",
    "\n",
    "\n",
    "print(\"--- %s seconds ---\" % (time.time() - start_time))\n"
   ]
  },
  {
   "cell_type": "code",
   "execution_count": null,
   "metadata": {
    "id": "exFh3LP83LRC"
   },
   "outputs": [],
   "source": [
    "# 10. Partition the home sales dataset by the date_built field.\n",
    "home_sales.write.partitionBy(\"date_built\").mode(\"overwrite\").parquet('parquet_home_sales2')"
   ]
  },
  {
   "cell_type": "code",
   "execution_count": null,
   "metadata": {
    "id": "Wj_SXlPB3Sp5"
   },
   "outputs": [],
   "source": [
    "# 11. Read the formatted parquet data.\n",
    "home_sales2=spark.read.parquet('parquet_home_sales2')"
   ]
  },
  {
   "cell_type": "code",
   "execution_count": null,
   "metadata": {
    "id": "pIRanX7M3YT4"
   },
   "outputs": [],
   "source": [
    "# 12. Create a temporary table for the parquet data.\n",
    "home_sales2.createOrReplaceTempView('home_sales2')"
   ]
  },
  {
   "cell_type": "code",
   "execution_count": null,
   "metadata": {
    "colab": {
     "base_uri": "https://localhost:8080/"
    },
    "executionInfo": {
     "elapsed": 659,
     "status": "ok",
     "timestamp": 1680655407646,
     "user": {
      "displayName": "Shapoor Mirzakwal",
      "userId": "02509529061383046859"
     },
     "user_tz": 240
    },
    "id": "Ekl5rwxN3gMW",
    "outputId": "cbad9771-76c0-48ca-d96e-1ffd52a3b750"
   },
   "outputs": [
    {
     "name": "stdout",
     "output_type": "stream",
     "text": [
      "+------+----+-----+\n",
      "| price|view|count|\n",
      "+------+----+-----+\n",
      "| price|view|    0|\n",
      "+------+----+-----+\n",
      "\n",
      "--- 0.22304487228393555 seconds ---\n"
     ]
    }
   ],
   "source": [
    "# 13. Run the query that filters out the view ratings with average price of greater than $350,000 with the parquet DataFrame. \n",
    "# Round your average to two decimal places. \n",
    "# Determine the runtime and compare it to the cached version. \n",
    "\n",
    "start_time = time.time()\n",
    "\n",
    "spark.sql(\"\"\"\n",
    "SELECT \n",
    "  ' price', \n",
    "  'view',\n",
    "  count(*) as count\n",
    "FROM home_sale\n",
    "WHERE ' price' > 349999 \n",
    "\"\"\").show()\n",
    "\n",
    "print(\"--- %s seconds ---\" % (time.time() - start_time))"
   ]
  },
  {
   "cell_type": "code",
   "execution_count": null,
   "metadata": {
    "colab": {
     "base_uri": "https://localhost:8080/"
    },
    "executionInfo": {
     "elapsed": 164,
     "status": "ok",
     "timestamp": 1680655430324,
     "user": {
      "displayName": "Shapoor Mirzakwal",
      "userId": "02509529061383046859"
     },
     "user_tz": 240
    },
    "id": "7l5-9xP03nUL",
    "outputId": "7afc1f88-cd1a-4d89-cc41-2da9c2e8fde4"
   },
   "outputs": [
    {
     "data": {
      "text/plain": [
       "DataFrame[]"
      ]
     },
     "execution_count": 19,
     "metadata": {},
     "output_type": "execute_result"
    }
   ],
   "source": [
    "# 14. Uncache the home_sales temporary table.\n",
    "spark.sql(\"uncache table home_sale\")"
   ]
  },
  {
   "cell_type": "code",
   "execution_count": null,
   "metadata": {
    "colab": {
     "base_uri": "https://localhost:8080/"
    },
    "executionInfo": {
     "elapsed": 152,
     "status": "ok",
     "timestamp": 1680655450005,
     "user": {
      "displayName": "Shapoor Mirzakwal",
      "userId": "02509529061383046859"
     },
     "user_tz": 240
    },
    "id": "jNQWcHgd3sV5",
    "outputId": "1db830d5-881d-4351-d677-9e5176b089dd"
   },
   "outputs": [
    {
     "name": "stdout",
     "output_type": "stream",
     "text": [
      "all clear\n"
     ]
    }
   ],
   "source": [
    "# 15. Check if the home_sales is no longer cached\n",
    "if spark.catalog.isCached(\"home_sale\"):\n",
    "    print(\"a table is till cached\")\n",
    "else:\n",
    "    print(\"all clear\")"
   ]
  }
 ],
 "metadata": {
  "colab": {
   "authorship_tag": "ABX9TyM688Ii7jnTerdNh8uWm0oP",
   "provenance": []
  },
  "kernelspec": {
   "display_name": "Python 3 (ipykernel)",
   "language": "python",
   "name": "python3"
  },
  "language_info": {
   "codemirror_mode": {
    "name": "ipython",
    "version": 3
   },
   "file_extension": ".py",
   "mimetype": "text/x-python",
   "name": "python",
   "nbconvert_exporter": "python",
   "pygments_lexer": "ipython3",
   "version": "3.9.12"
  }
 },
 "nbformat": 4,
 "nbformat_minor": 1
}
